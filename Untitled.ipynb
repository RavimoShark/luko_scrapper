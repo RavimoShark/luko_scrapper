{
 "cells": [
  {
   "cell_type": "code",
   "execution_count": 1,
   "metadata": {},
   "outputs": [],
   "source": [
    "import pandas as pd\n",
    "import numpy as np\n",
    "import scrapper\n",
    "import re"
   ]
  },
  {
   "cell_type": "code",
   "execution_count": 4,
   "metadata": {},
   "outputs": [],
   "source": [
    "%load_ext autoreload\n",
    "%autoreload 2"
   ]
  },
  {
   "cell_type": "markdown",
   "metadata": {},
   "source": [
    "### Test"
   ]
  },
  {
   "cell_type": "code",
   "execution_count": null,
   "metadata": {},
   "outputs": [],
   "source": [
    "import asyncio\n",
    "import logging\n",
    "import re\n",
    "import sys\n",
    "from typing import IO\n",
    "import urllib.error\n",
    "import urllib.parse\n",
    "\n",
    "import aiofiles\n",
    "import aiohttp\n",
    "from aiohttp import ClientSession\n",
    "import pathlib\n",
    "import sys\n",
    "\n",
    "logging.basicConfig(\n",
    "    format=\"%(asctime)s %(levelname)s:%(name)s: %(message)s\",\n",
    "    level=logging.DEBUG,\n",
    "    datefmt=\"%H:%M:%S\",\n",
    "    stream=sys.stderr,\n",
    ")\n",
    "logger = logging.getLogger(\"areq\")\n",
    "logging.getLogger(\"chardet.charsetprober\").disabled = True\n",
    "\n",
    "HREF_RE = re.compile(r'href=\"(.*?)\"')\n",
    "\n",
    "async def fetch_html(url: str, session: ClientSession, **kwargs) -> str:\n",
    "    \"\"\"GET request wrapper to fetch page HTML.\n",
    "\n",
    "    kwargs are passed to `session.request()`.\n",
    "    \"\"\"\n",
    "\n",
    "    resp = await session.request(method=\"GET\", url=url, **kwargs)\n",
    "    resp.raise_for_status()\n",
    "    logger.info(\"Got response [%s] for URL: %s\", resp.status, url)\n",
    "    html = await resp.text()\n",
    "    return html\n",
    "\n",
    "async def parse(url: str, session: ClientSession, **kwargs) -> set:\n",
    "    \"\"\"Find HREFs in the HTML of `url`.\"\"\"\n",
    "    found = set()\n",
    "    try:\n",
    "        html = await fetch_html(url=url, session=session, **kwargs)\n",
    "    except (\n",
    "        aiohttp.ClientError,\n",
    "        aiohttp.http_exceptions.HttpProcessingError,\n",
    "    ) as e:\n",
    "        logger.error(\n",
    "            \"aiohttp exception for %s [%s]: %s\",\n",
    "            url,\n",
    "            getattr(e, \"status\", None),\n",
    "            getattr(e, \"message\", None),\n",
    "        )\n",
    "        return found\n",
    "    except Exception as e:\n",
    "        logger.exception(\n",
    "            \"Non-aiohttp exception occured:  %s\", getattr(e, \"__dict__\", {})\n",
    "        )\n",
    "        return found\n",
    "    else:\n",
    "        for link in HREF_RE.findall(html):\n",
    "            try:\n",
    "                abslink = urllib.parse.urljoin(url, link)\n",
    "            except (urllib.error.URLError, ValueError):\n",
    "                logger.exception(\"Error parsing URL: %s\", link)\n",
    "                pass\n",
    "            else:\n",
    "                found.add(abslink)\n",
    "        logger.info(\"Found %d links for %s\", len(found), url)\n",
    "        return found\n",
    "\n",
    "async def write_one(file: IO, url: str, **kwargs) -> None:\n",
    "    \"\"\"Write the found HREFs from `url` to `file`.\"\"\"\n",
    "    res = await parse(url=url, **kwargs)\n",
    "    if not res:\n",
    "        return None\n",
    "    async with aiofiles.open(file, \"a\") as f:\n",
    "        for p in res:\n",
    "            await f.write(f\"{url}\\t{p}\\n\")\n",
    "        logger.info(\"Wrote results for source URL: %s\", url)\n",
    "\n",
    "async def bulk_crawl_and_write(file: IO, urls: set, **kwargs) -> None:\n",
    "    \"\"\"Crawl & write concurrently to `file` for multiple `urls`.\"\"\"\n",
    "    async with ClientSession() as session:\n",
    "        tasks = []\n",
    "        for url in urls:\n",
    "            tasks.append(\n",
    "                write_one(file=file, url=url, session=session, **kwargs)\n",
    "            )\n",
    "        await asyncio.gather(*tasks)\n",
    "\n"
   ]
  },
  {
   "cell_type": "code",
   "execution_count": null,
   "metadata": {},
   "outputs": [],
   "source": [
    "\n",
    "\n",
    "assert sys.version_info >= (3, 7), \"Script requires Python 3.7+.\"\n",
    "here = pathlib.Path('./').parent\n",
    "\n",
    "with open(here.joinpath(\"urls.txt\")) as infile:\n",
    "    urls = set(map(str.strip, infile))\n",
    "\n",
    "outpath = here.joinpath(\"foundurls.txt\")\n",
    "with open(outpath, \"w\") as outfile:\n",
    "    outfile.write(\"source_url\\tparsed_url\\n\")\n",
    "\n",
    "await bulk_crawl_and_write(file=outpath, urls=urls)"
   ]
  },
  {
   "cell_type": "code",
   "execution_count": 32,
   "metadata": {},
   "outputs": [],
   "source": [
    "# let's test the doamain function\n",
    "urls=()\n",
    "with open('./urls.txt','r') as f:\n",
    "    urls = f.read().splitlines()"
   ]
  },
  {
   "cell_type": "code",
   "execution_count": 33,
   "metadata": {},
   "outputs": [
    {
     "data": {
      "text/plain": [
       "['https://regex101.com/',\n",
       " 'https://docs.python.org/3/this-url-will-404.html',\n",
       " 'https://www.nytimes.com/guides/',\n",
       " 'https://www.mediamatters.org/',\n",
       " 'https://1.1.1.1/',\n",
       " 'https://www.politico.com/tipsheets/morning-money',\n",
       " 'https://www.bloomberg.com/markets/economics',\n",
       " 'https://www.ietf.org/rfc/rfc2616.txt']"
      ]
     },
     "execution_count": 33,
     "metadata": {},
     "output_type": "execute_result"
    }
   ],
   "source": [
    "urls"
   ]
  },
  {
   "cell_type": "code",
   "execution_count": 34,
   "metadata": {},
   "outputs": [],
   "source": [
    "test = scrapper.extract_domain(urls)"
   ]
  },
  {
   "cell_type": "code",
   "execution_count": 35,
   "metadata": {},
   "outputs": [
    {
     "data": {
      "text/plain": [
       "['regex101.com']"
      ]
     },
     "execution_count": 35,
     "metadata": {},
     "output_type": "execute_result"
    }
   ],
   "source": [
    "test"
   ]
  },
  {
   "cell_type": "code",
   "execution_count": 38,
   "metadata": {},
   "outputs": [],
   "source": [
    "regex = re.compile(r\"^(?:https?:\\/\\/)?(?:[^@\\/\\n]+@)?(?:www\\.)?([^:\\/?\\n]+)\")\n",
    "d = regex.findall('\\n'.join(urls))"
   ]
  },
  {
   "cell_type": "code",
   "execution_count": 42,
   "metadata": {},
   "outputs": [],
   "source": [
    "urls[0] =''"
   ]
  },
  {
   "cell_type": "code",
   "execution_count": 47,
   "metadata": {},
   "outputs": [],
   "source": [
    "caca = set()\n",
    "for url in urls:\n",
    "    d = regex.findall(url)\n",
    "    if d:\n",
    "        caca.add(d[0])"
   ]
  },
  {
   "cell_type": "code",
   "execution_count": 56,
   "metadata": {},
   "outputs": [
    {
     "name": "stderr",
     "output_type": "stream",
     "text": [
      "22:47:45 DEBUG:urllib3.connectionpool: Starting new HTTPS connection (1): www.google.com:443\n",
      "22:47:45 DEBUG:urllib3.connectionpool: https://www.google.com:443 \"GET /search?q=SHARETHELOVE*+LUKO&num=100&hl=en HTTP/1.1\" 200 None\n",
      "22:47:45 INFO:luko_scrapper: Got response [200] for URL: https://www.google.com/search?q=SHARETHELOVE*+LUKO&num=100&hl=en\n"
     ]
    }
   ],
   "source": [
    "keyword, html = scrapper.get_google_search_results('SHARETHELOVE*+LUKO', 100, 'en')\n",
    "found_results = scrapper.parse_results(html, keyword)"
   ]
  },
  {
   "cell_type": "code",
   "execution_count": 57,
   "metadata": {},
   "outputs": [
    {
     "data": {
      "text/html": [
       "<div>\n",
       "<style scoped>\n",
       "    .dataframe tbody tr th:only-of-type {\n",
       "        vertical-align: middle;\n",
       "    }\n",
       "\n",
       "    .dataframe tbody tr th {\n",
       "        vertical-align: top;\n",
       "    }\n",
       "\n",
       "    .dataframe thead th {\n",
       "        text-align: right;\n",
       "    }\n",
       "</style>\n",
       "<table border=\"1\" class=\"dataframe\">\n",
       "  <thead>\n",
       "    <tr style=\"text-align: right;\">\n",
       "      <th></th>\n",
       "      <th>keyword</th>\n",
       "      <th>rank</th>\n",
       "      <th>title</th>\n",
       "      <th>link</th>\n",
       "      <th>domain</th>\n",
       "    </tr>\n",
       "  </thead>\n",
       "  <tbody>\n",
       "    <tr>\n",
       "      <th>0</th>\n",
       "      <td>SHARETHELOVE*+LUKO</td>\n",
       "      <td>1</td>\n",
       "      <td>Code promo Luko Parrainage 10€ de réduction</td>\n",
       "      <td>https://www.1parrainage.com/offre_parrainage_L...</td>\n",
       "      <td>1parrainage.com</td>\n",
       "    </tr>\n",
       "    <tr>\n",
       "      <th>1</th>\n",
       "      <td>SHARETHELOVE*+LUKO</td>\n",
       "      <td>2</td>\n",
       "      <td>Avis et Témoignages clients | Luko</td>\n",
       "      <td>https://www.luko.eu/fr/page/avis-clients-temoi...</td>\n",
       "      <td>luko.eu</td>\n",
       "    </tr>\n",
       "    <tr>\n",
       "      <th>2</th>\n",
       "      <td>SHARETHELOVE*+LUKO</td>\n",
       "      <td>3</td>\n",
       "      <td>Luko - Avis | Facebook</td>\n",
       "      <td>https://fr-fr.facebook.com/getluko/reviews/</td>\n",
       "      <td>fr-fr.facebook.com</td>\n",
       "    </tr>\n",
       "    <tr>\n",
       "      <th>3</th>\n",
       "      <td>SHARETHELOVE*+LUKO</td>\n",
       "      <td>4</td>\n",
       "      <td>Luko - Reviews | Facebook</td>\n",
       "      <td>https://www.facebook.com/getluko/reviews/</td>\n",
       "      <td>facebook.com</td>\n",
       "    </tr>\n",
       "    <tr>\n",
       "      <th>4</th>\n",
       "      <td>SHARETHELOVE*+LUKO</td>\n",
       "      <td>5</td>\n",
       "      <td>Luko - Codes Promo et Parrainages</td>\n",
       "      <td>https://mes-parrainages.fr/luko</td>\n",
       "      <td>mes-parrainages.fr</td>\n",
       "    </tr>\n",
       "  </tbody>\n",
       "</table>\n",
       "</div>"
      ],
      "text/plain": [
       "              keyword  rank                                        title  \\\n",
       "0  SHARETHELOVE*+LUKO     1  Code promo Luko Parrainage 10€ de réduction   \n",
       "1  SHARETHELOVE*+LUKO     2           Avis et Témoignages clients | Luko   \n",
       "2  SHARETHELOVE*+LUKO     3                       Luko - Avis | Facebook   \n",
       "3  SHARETHELOVE*+LUKO     4                    Luko - Reviews | Facebook   \n",
       "4  SHARETHELOVE*+LUKO     5            Luko - Codes Promo et Parrainages   \n",
       "\n",
       "                                                link              domain  \n",
       "0  https://www.1parrainage.com/offre_parrainage_L...     1parrainage.com  \n",
       "1  https://www.luko.eu/fr/page/avis-clients-temoi...             luko.eu  \n",
       "2        https://fr-fr.facebook.com/getluko/reviews/  fr-fr.facebook.com  \n",
       "3          https://www.facebook.com/getluko/reviews/        facebook.com  \n",
       "4                    https://mes-parrainages.fr/luko  mes-parrainages.fr  "
      ]
     },
     "execution_count": 57,
     "metadata": {},
     "output_type": "execute_result"
    }
   ],
   "source": [
    "found_results.head()"
   ]
  },
  {
   "cell_type": "code",
   "execution_count": 67,
   "metadata": {},
   "outputs": [],
   "source": [
    "urls = found_results.groupby('domain')['link'].first().values"
   ]
  },
  {
   "cell_type": "code",
   "execution_count": 68,
   "metadata": {},
   "outputs": [
    {
     "data": {
      "text/plain": [
       "array(['https://www.1parrainage.com/offre_parrainage_Luko.php',\n",
       "       'https://99designs.ca/product-packaging-design/contests/big-silk-needs-trendy-luxurious-packaging-942371',\n",
       "       'https://www.appannie.com/fr/apps/google-play/app/com.getluko.cover.app/',\n",
       "       'https://www.assurland.com/assurance-blog/assurance-habitation-actualite/habitation-l-assurtech-luko-vient-de-lever-2-millions-d-euros_131204.html',\n",
       "       'https://www.bestadsontv.com/profile/176542/Luke-OReilly',\n",
       "       'http://buildingtomorrowsgeneration.org/mzm/crimewatch-pa-bucks-county.html',\n",
       "       'https://www.dealabs.com/codes-promo/code-vivatech-sur-lassurance-luko-1605353',\n",
       "       'https://dribbble.com/madacs_a/buckets/409581-cards-buttons-selectors',\n",
       "       'https://eyeknowhiphop.wordpress.com/tag/luko/',\n",
       "       'https://www.facebook.com/getluko/reviews/',\n",
       "       'https://fr-fr.facebook.com/getluko/reviews/',\n",
       "       'http://gabukass.blogas.lt/28-skyrius-jausmai-kile-is-niekur-317.html',\n",
       "       'http://hkcitylife.com/index.php?route=product/product&path=103_122_125&product_id=1833',\n",
       "       'https://www.hustleliving.com.au/',\n",
       "       'https://iiaku.com/2019/07/29/what-happened-i-moved-to-london/',\n",
       "       'https://www.insstoreweb.com/tag/rakhdi',\n",
       "       'https://www.instasaver.org/hashtag/rakhdi',\n",
       "       'http://www.instazu.com/tag/soHneYa',\n",
       "       'https://issuu.com/colchesterzoo1/docs/cz_magazine_autumn_2016_web',\n",
       "       'https://www.legacy.com/obituaries/name/jeffrey-johnson-obituary?pid=187652196',\n",
       "       'https://www.lewisbnb.fr/blog',\n",
       "       'http://www.linglestownlife.org/filerequest/1395.pdf',\n",
       "       'https://www.luko.eu/fr/page/avis-clients-temoignages',\n",
       "       'https://mes-parrainages.fr/luko',\n",
       "       'https://www.mmo-champion.com/threads/905752-Is-glory-of-the-Hero-soloable',\n",
       "       'https://muzaza.ru/mp3/md+dj+-+love+too+deep+extended+mix',\n",
       "       'http://www.pictame.com/tag/crewlyfe',\n",
       "       'https://www.picuki.com/tag/tribesandtreks',\n",
       "       'https://www.pinterest.at/pin/513762269976850942/',\n",
       "       'https://www.pinterest.ca/pin/217720963209455104/',\n",
       "       'https://www.pinterest.ch/candybesos87/valentines-day/',\n",
       "       'https://www.pinterest.cl/jonitimberlin/child-baker/',\n",
       "       'https://www.pinterest.co.kr/a_salty/app-%E6%97%A5%E5%8E%86/',\n",
       "       'https://www.pinterest.co.uk/pin/372532200403674607/',\n",
       "       'https://www.pinterest.com/pin/458804280769087743/',\n",
       "       'https://www.pinterest.com.au/amp/pin/560276009876044558/',\n",
       "       'https://www.pinterest.com.mx/pin/251920172879911502/',\n",
       "       'https://www.pinterest.dk/pin/493003490430150025/',\n",
       "       'https://www.pinterest.es/pin/442760207087243206/?amp_client_id=CLIENT_ID(_)&mweb_unauth_id=%7B%7Bdefault.session%7D%7D&simplified=true',\n",
       "       'https://www.pinterest.fr/pin/568790627911755235/',\n",
       "       'https://www.pinterest.it/shubbu_bansal/reyansh/',\n",
       "       'https://www.pinterest.jp/pin/382031980888255441/?amp_client_id=CLIENT_ID(_)&mweb_unauth_id=%7B%7Bdefault.session%7D%7D&simplified=true',\n",
       "       'https://www.pinterest.nz/pin/442760207087243168/',\n",
       "       'https://www.pinterest.ph/pin/442760207091070047/?amp_client_id=CLIENT_ID(_)&mweb_unauth_id=%7B%7Bdefault.session%7D%7D&simplified=true',\n",
       "       'https://www.pinterest.pt/pin/442760207087591030/',\n",
       "       'https://www.pinterest.se/pin/442760207089178832/',\n",
       "       'https://play.google.com/store/apps/details?id=com.getluko.cover.app&hl=fr_CH',\n",
       "       'https://www.png.wiki/tags/lol%F0%9F%98%82%F0%9F%98%82',\n",
       "       'https://www.pokecommunity.com/showthread.php?t=70031',\n",
       "       'https://www.reddit.com/r/pokemon/comments/1oo4gb/pokemon_breeder_you_choose/',\n",
       "       'http://www.rrpcpc.org/RRP%20Fall%202019.pdf',\n",
       "       'http://www.sage-ing.com/Sage-ing28.pdf',\n",
       "       'https://www.scubaboard.com/community/threads/help-me-decide-where-to-dive-in-indonesia.584487/',\n",
       "       'https://spinninrecords.com/talentpool/track/52435-daddy-ini-unity/',\n",
       "       'http://www.stceceliachurch.org/blog/page/2?page=14',\n",
       "       'https://www.super-parrain.com/offres/luko-1/parrainage-luko-1/annonces/stan-d',\n",
       "       'http://www.surfline.com/surfology/schoolsearch.cfm',\n",
       "       'https://www.touteslesreductions.fr/code-reduction-2191.html',\n",
       "       'https://www.twipu.com/tag/Luko',\n",
       "       'https://www.twugi.com/hashtag/LuKo',\n",
       "       'https://vimeo.com/349442014',\n",
       "       'https://www.xn--nobanque-b1a.fr/2019/05/24/code-promo-luko-10-e-offerts/',\n",
       "       'https://www.youtube.com/watch?v=anZnTR88mUI&list=LL98DiA57wG9clAEfTFrQV7A&index=427'],\n",
       "      dtype=object)"
      ]
     },
     "execution_count": 68,
     "metadata": {},
     "output_type": "execute_result"
    }
   ],
   "source": [
    "urls"
   ]
  },
  {
   "cell_type": "code",
   "execution_count": null,
   "metadata": {},
   "outputs": [],
   "source": []
  }
 ],
 "metadata": {
  "kernelspec": {
   "display_name": "ComputerVision",
   "language": "python",
   "name": "computervision"
  },
  "language_info": {
   "codemirror_mode": {
    "name": "ipython",
    "version": 3
   },
   "file_extension": ".py",
   "mimetype": "text/x-python",
   "name": "python",
   "nbconvert_exporter": "python",
   "pygments_lexer": "ipython3",
   "version": "3.7.5"
  },
  "toc": {
   "base_numbering": 1,
   "nav_menu": {},
   "number_sections": true,
   "sideBar": true,
   "skip_h1_title": false,
   "title_cell": "Table of Contents",
   "title_sidebar": "Contents",
   "toc_cell": false,
   "toc_position": {},
   "toc_section_display": true,
   "toc_window_display": false
  }
 },
 "nbformat": 4,
 "nbformat_minor": 2
}
